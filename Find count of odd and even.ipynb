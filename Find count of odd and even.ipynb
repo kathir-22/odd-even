{
 "cells": [
  {
   "cell_type": "code",
   "execution_count": 2,
   "id": "cb0c20b6",
   "metadata": {},
   "outputs": [
    {
     "name": "stdout",
     "output_type": "stream",
     "text": [
      "number of odd numbers: 4\n",
      "number of even numbers: 5\n"
     ]
    }
   ],
   "source": [
    "n=(1,2,3,4,5,6,7,8,9)\n",
    "j=0\n",
    "k=0\n",
    "for i in n:\n",
    "    if i%2==0:\n",
    "\n",
    "        j+=1\n",
    "        \n",
    "    else:\n",
    "        k+=1\n",
    "print(\"number of odd numbers:\",j)\n",
    "print(\"number of even numbers:\",k)     "
   ]
  },
  {
   "cell_type": "code",
   "execution_count": null,
   "id": "b167506d",
   "metadata": {},
   "outputs": [],
   "source": []
  }
 ],
 "metadata": {
  "kernelspec": {
   "display_name": "Python 3 (ipykernel)",
   "language": "python",
   "name": "python3"
  },
  "language_info": {
   "codemirror_mode": {
    "name": "ipython",
    "version": 3
   },
   "file_extension": ".py",
   "mimetype": "text/x-python",
   "name": "python",
   "nbconvert_exporter": "python",
   "pygments_lexer": "ipython3",
   "version": "3.10.2"
  }
 },
 "nbformat": 4,
 "nbformat_minor": 5
}
